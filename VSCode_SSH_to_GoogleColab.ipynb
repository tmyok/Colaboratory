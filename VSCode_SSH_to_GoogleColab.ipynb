{
  "nbformat": 4,
  "nbformat_minor": 0,
  "metadata": {
    "colab": {
      "name": "VSCode-SSH_to_GoogleColab.ipynb",
      "provenance": [],
      "collapsed_sections": [],
      "authorship_tag": "ABX9TyORTO95dc1txDn6GFWh2qQx",
      "include_colab_link": true
    },
    "kernelspec": {
      "name": "python3",
      "display_name": "Python 3"
    },
    "accelerator": "GPU"
  },
  "cells": [
    {
      "cell_type": "markdown",
      "metadata": {
        "id": "view-in-github",
        "colab_type": "text"
      },
      "source": [
        "<a href=\"https://colab.research.google.com/github/tmyok/Colaboratory/blob/master/VSCode_SSH_to_GoogleColab.ipynb\" target=\"_parent\"><img src=\"https://colab.research.google.com/assets/colab-badge.svg\" alt=\"Open In Colab\"/></a>"
      ]
    },
    {
      "cell_type": "markdown",
      "metadata": {
        "id": "v6CW5ibq5tnU"
      },
      "source": [
        "# Google Colab をSSH と VS Code で使う手順のメモ\n",
        "\n",
        "## 参考リンク\n",
        "Google Colab をSSH と VS Code で使う  \n",
        "https://qiita.com/hazigin/items/c291adf5dc9ccc13d11f  \n",
        "How can I ssh to google colaboratory VM?  \n",
        "https://stackoverflow.com/questions/48459804/how-can-i-ssh-to-google-colaboratory-vm/63186681#63186681  \n",
        "NGROK  \n",
        "https://ngrok.com  \n",
        "\n",
        "## 下準備\n",
        "Colab のランタイムをGPUに変更しておく\n",
        "\n",
        "## Colab側の設定\n",
        "下記を実行して、NRGOKからトークンを取得する"
      ]
    },
    {
      "cell_type": "code",
      "metadata": {
        "id": "HNpKHyIR6moP"
      },
      "source": [
        "import random, string, urllib.request, json, getpass\n",
        "\n",
        "#Generate root password\n",
        "password = ''.join(random.choice(string.ascii_letters + string.digits) for i in range(20))\n",
        "\n",
        "#Download ngrok\n",
        "! wget -q -c -nc https://bin.equinox.io/c/4VmDzA7iaHb/ngrok-stable-linux-amd64.zip\n",
        "! unzip -qq -n ngrok-stable-linux-amd64.zip\n",
        "\n",
        "#Setup sshd\n",
        "! apt-get install -qq -o=Dpkg::Use-Pty=0 openssh-server pwgen > /dev/null\n",
        "\n",
        "#Set root password\n",
        "! echo root:$password | chpasswd\n",
        "! mkdir -p /var/run/sshd\n",
        "! echo \"PermitRootLogin yes\" >> /etc/ssh/sshd_config\n",
        "! echo \"PasswordAuthentication yes\" >> /etc/ssh/sshd_config\n",
        "! echo \"LD_LIBRARY_PATH=/usr/lib64-nvidia\" >> /root/.bashrc\n",
        "! echo \"export LD_LIBRARY_PATH\" >> /root/.bashrc\n",
        "\n",
        "#Run sshd\n",
        "get_ipython().system_raw('/usr/sbin/sshd -D &')\n",
        "\n",
        "#Ask token\n",
        "print(\"Copy authtoken from https://dashboard.ngrok.com/auth/your-authtoken\")"
      ],
      "execution_count": null,
      "outputs": []
    },
    {
      "cell_type": "markdown",
      "metadata": {
        "id": "1n2gb8ME8QWx"
      },
      "source": [
        "## 取得したトークンの入力\n",
        "下記、\"Yout Authtoken\"の欄に、取得したトークンをペーストする"
      ]
    },
    {
      "cell_type": "code",
      "metadata": {
        "id": "xma2trNk7Jlu"
      },
      "source": [
        "authtoken = \"Your Authtoken\"\n",
        "\n",
        "#Create tunnel\n",
        "get_ipython().system_raw('./ngrok authtoken $authtoken && ./ngrok tcp 22 &')\n",
        "\n",
        "#Get public address and print connect command\n",
        "with urllib.request.urlopen('http://localhost:4040/api/tunnels') as response:\n",
        "  data = json.loads(response.read().decode())\n",
        "  (host, port) = data['tunnels'][0]['public_url'][6:].split(':')\n",
        "  print(f'SSH command: ssh -p{port} root@{host}')\n",
        "\n",
        "#Print root password\n",
        "print(f'Root password: {password}')"
      ],
      "execution_count": null,
      "outputs": []
    },
    {
      "cell_type": "markdown",
      "metadata": {
        "id": "vYp7Xv-d8yiK"
      },
      "source": [
        "## SSH接続\n",
        "うまくいっていればSSH commandとRoot passwordが表示されるので、\n",
        "~/.ssh/configを編集してVSCodeを設定する。"
      ]
    },
    {
      "cell_type": "code",
      "metadata": {
        "id": "_GCkXfE38sXo"
      },
      "source": [
        ""
      ],
      "execution_count": null,
      "outputs": []
    }
  ]
}