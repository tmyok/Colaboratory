{
  "nbformat": 4,
  "nbformat_minor": 0,
  "metadata": {
    "colab": {
      "name": "big_transfer.ipynb",
      "provenance": [],
      "authorship_tag": "ABX9TyNbdern9FyD6RWhQFgd/Bw/",
      "include_colab_link": true
    },
    "kernelspec": {
      "name": "python3",
      "display_name": "Python 3"
    },
    "accelerator": "GPU"
  },
  "cells": [
    {
      "cell_type": "markdown",
      "metadata": {
        "id": "view-in-github",
        "colab_type": "text"
      },
      "source": [
        "<a href=\"https://colab.research.google.com/github/tmyok/Colaboratory/blob/master/big_transfer.ipynb\" target=\"_parent\"><img src=\"https://colab.research.google.com/assets/colab-badge.svg\" alt=\"Open In Colab\"/></a>"
      ]
    },
    {
      "cell_type": "markdown",
      "metadata": {
        "id": "4IInpTr_X-qE",
        "colab_type": "text"
      },
      "source": [
        "## Big Transfer (BiT): General Visual Representation Learning  \n",
        "https://arxiv.org/abs/1912.11370  \n",
        "https://github.com/google-research/big_transfer"
      ]
    },
    {
      "cell_type": "code",
      "metadata": {
        "id": "h4qPwkgObZe-",
        "colab_type": "code",
        "colab": {
          "base_uri": "https://localhost:8080/",
          "height": 306
        },
        "outputId": "343b5e9b-21a4-429a-82c8-a45c59c8b960"
      },
      "source": [
        "!nvidia-smi"
      ],
      "execution_count": 1,
      "outputs": [
        {
          "output_type": "stream",
          "text": [
            "Fri Jun  5 19:59:28 2020       \n",
            "+-----------------------------------------------------------------------------+\n",
            "| NVIDIA-SMI 440.82       Driver Version: 418.67       CUDA Version: 10.1     |\n",
            "|-------------------------------+----------------------+----------------------+\n",
            "| GPU  Name        Persistence-M| Bus-Id        Disp.A | Volatile Uncorr. ECC |\n",
            "| Fan  Temp  Perf  Pwr:Usage/Cap|         Memory-Usage | GPU-Util  Compute M. |\n",
            "|===============================+======================+======================|\n",
            "|   0  Tesla P100-PCIE...  Off  | 00000000:00:04.0 Off |                    0 |\n",
            "| N/A   39C    P0    27W / 250W |      0MiB / 16280MiB |      0%      Default |\n",
            "+-------------------------------+----------------------+----------------------+\n",
            "                                                                               \n",
            "+-----------------------------------------------------------------------------+\n",
            "| Processes:                                                       GPU Memory |\n",
            "|  GPU       PID   Type   Process name                             Usage      |\n",
            "|=============================================================================|\n",
            "|  No running processes found                                                 |\n",
            "+-----------------------------------------------------------------------------+\n"
          ],
          "name": "stdout"
        }
      ]
    },
    {
      "cell_type": "markdown",
      "metadata": {
        "id": "Hi0czIcEYRKO",
        "colab_type": "text"
      },
      "source": [
        "## Download the source code from GitHub"
      ]
    },
    {
      "cell_type": "code",
      "metadata": {
        "id": "2otd7MdU6D9-",
        "colab_type": "code",
        "colab": {
          "base_uri": "https://localhost:8080/",
          "height": 119
        },
        "outputId": "ca3fc23b-7d83-4d97-b434-30834e218d5c"
      },
      "source": [
        "!git clone https://github.com/google-research/big_transfer.git"
      ],
      "execution_count": 2,
      "outputs": [
        {
          "output_type": "stream",
          "text": [
            "Cloning into 'big_transfer'...\n",
            "remote: Enumerating objects: 76, done.\u001b[K\n",
            "remote: Counting objects: 100% (76/76), done.\u001b[K\n",
            "remote: Compressing objects: 100% (58/58), done.\u001b[K\n",
            "remote: Total 76 (delta 32), reused 58 (delta 15), pack-reused 0\u001b[K\n",
            "Unpacking objects: 100% (76/76), done.\n"
          ],
          "name": "stdout"
        }
      ]
    },
    {
      "cell_type": "markdown",
      "metadata": {
        "id": "bjKKm8FZZPz5",
        "colab_type": "text"
      },
      "source": [
        "## Installation"
      ]
    },
    {
      "cell_type": "code",
      "metadata": {
        "id": "8W-kaV968Kre",
        "colab_type": "code",
        "colab": {
          "base_uri": "https://localhost:8080/",
          "height": 119
        },
        "outputId": "5d064ccb-ec17-4105-caf5-78e483280272"
      },
      "source": [
        "%cd big_transfer\n",
        "!pip install -r bit_pytorch/requirements.txt"
      ],
      "execution_count": 3,
      "outputs": [
        {
          "output_type": "stream",
          "text": [
            "/content/big_transfer\n",
            "Requirement already satisfied: torch>=1.1.0 in /usr/local/lib/python3.6/dist-packages (from -r bit_pytorch/requirements.txt (line 1)) (1.5.0+cu101)\n",
            "Requirement already satisfied: torchvision in /usr/local/lib/python3.6/dist-packages (from -r bit_pytorch/requirements.txt (line 2)) (0.6.0+cu101)\n",
            "Requirement already satisfied: numpy in /usr/local/lib/python3.6/dist-packages (from -r bit_pytorch/requirements.txt (line 3)) (1.18.4)\n",
            "Requirement already satisfied: future in /usr/local/lib/python3.6/dist-packages (from torch>=1.1.0->-r bit_pytorch/requirements.txt (line 1)) (0.16.0)\n",
            "Requirement already satisfied: pillow>=4.1.1 in /usr/local/lib/python3.6/dist-packages (from torchvision->-r bit_pytorch/requirements.txt (line 2)) (7.0.0)\n"
          ],
          "name": "stdout"
        }
      ]
    },
    {
      "cell_type": "markdown",
      "metadata": {
        "id": "cVVimpp_ZZ8P",
        "colab_type": "text"
      },
      "source": [
        "## Download the ResNet-50x3 pre-trained on ImageNet-21k\n",
        "I would like to download the ResNet-50x3 pre-trained on ImageNet-21k, run the following command:"
      ]
    },
    {
      "cell_type": "code",
      "metadata": {
        "id": "DETozgio-Bqn",
        "colab_type": "code",
        "colab": {
          "base_uri": "https://localhost:8080/",
          "height": 204
        },
        "outputId": "999869f4-606d-45f5-ec78-97d2063705c1"
      },
      "source": [
        "!wget https://storage.googleapis.com/bit_models/BiT-M-R50x3.npz"
      ],
      "execution_count": 4,
      "outputs": [
        {
          "output_type": "stream",
          "text": [
            "--2020-06-05 19:59:42--  https://storage.googleapis.com/bit_models/BiT-M-R50x3.npz\n",
            "Resolving storage.googleapis.com (storage.googleapis.com)... 74.125.142.128, 2607:f8b0:400e:c09::80\n",
            "Connecting to storage.googleapis.com (storage.googleapis.com)|74.125.142.128|:443... connected.\n",
            "HTTP request sent, awaiting response... 200 OK\n",
            "Length: 1381642520 (1.3G) [application/octet-stream]\n",
            "Saving to: ‘BiT-M-R50x3.npz’\n",
            "\n",
            "BiT-M-R50x3.npz     100%[===================>]   1.29G  79.7MB/s    in 19s     \n",
            "\n",
            "2020-06-05 20:00:03 (67.9 MB/s) - ‘BiT-M-R50x3.npz’ saved [1381642520/1381642520]\n",
            "\n"
          ],
          "name": "stdout"
        }
      ]
    },
    {
      "cell_type": "markdown",
      "metadata": {
        "id": "NFkE1lp4bDW-",
        "colab_type": "text"
      },
      "source": [
        "## Fine-tune BiT\n",
        "```\n",
        "--name cifar10_`date +%F_%H%M%S`\n",
        "--model BiT-M-R50x3\n",
        "--logdir ./bit_logs\n",
        "--dataset cifar10\n",
        "--datadir ./\n",
        "--batch 64\n",
        "--base_lr 0.0005\n",
        "--eval_every 100\n",
        "```"
      ]
    },
    {
      "cell_type": "code",
      "metadata": {
        "id": "NAlo6L528l9m",
        "colab_type": "code",
        "colab": {
          "base_uri": "https://localhost:8080/",
          "height": 1000
        },
        "outputId": "081200c8-c95b-49f8-ef75-3dd00c794342"
      },
      "source": [
        "!python3 -m bit_pytorch.train --name cifar10_`date +%F_%H%M%S` --model BiT-M-R50x3 --logdir ./bit_logs --dataset cifar10 --datadir ./ --batch 64 --base_lr 0.0005 --eval_every 10"
      ],
      "execution_count": 5,
      "outputs": [
        {
          "output_type": "stream",
          "text": [
            "2020-06-05 20:00:26,018 [INFO] bit_common: Namespace(base_lr=0.0005, batch=64, batch_split=1, bit_pretrained_dir='.', datadir='./', dataset='cifar10', eval_every=10, examples_per_class=None, examples_per_class_seed=0, logdir='./bit_logs', model='BiT-M-R50x3', name='cifar10_2020-06-05_200022', save=True, workers=8)\n",
            "2020-06-05 20:00:26,068 [INFO] bit_common: Going to train on cuda:0\n",
            "Downloading https://www.cs.toronto.edu/~kriz/cifar-10-python.tar.gz to ./cifar-10-python.tar.gz\n",
            "170500096it [00:03, 44173384.26it/s]                   \n",
            "Extracting ./cifar-10-python.tar.gz to ./\n",
            "Files already downloaded and verified\n",
            "2020-06-05 20:00:33,209 [INFO] bit_common: Using a training set with 50000 images.\n",
            "2020-06-05 20:00:33,209 [INFO] bit_common: Using a validation set with 10000 images.\n",
            "2020-06-05 20:00:33,209 [INFO] bit_common: Loading model from BiT-M-R50x3.npz\n",
            "2020-06-05 20:00:37,011 [INFO] bit_common: Moving model onto all GPUs\n",
            "2020-06-05 20:00:46,591 [INFO] bit_common: Model will be saved in './bit_logs/cifar10_2020-06-05_200022/bit.pth.tar'\n",
            "2020-06-05 20:00:46,591 [INFO] bit_common: Fine-tuning from BiT\n",
            "2020-06-05 20:00:46,597 [INFO] bit_common: Starting training!\n",
            "2020-06-05 20:00:51,415 [INFO] bit_common: [step 0]: loss=2.30258 (lr=0.0e+00)\n",
            "2020-06-05 20:00:51,872 [INFO] bit_common: [step 1]: loss=2.30258 (lr=1.0e-06)\n",
            "2020-06-05 20:00:52,607 [INFO] bit_common: [step 2]: loss=2.30234 (lr=2.0e-06)\n",
            "2020-06-05 20:00:53,342 [INFO] bit_common: [step 3]: loss=2.30060 (lr=3.0e-06)\n",
            "2020-06-05 20:00:54,077 [INFO] bit_common: [step 4]: loss=2.29922 (lr=4.0e-06)\n",
            "2020-06-05 20:00:54,810 [INFO] bit_common: [step 5]: loss=2.29617 (lr=5.0e-06)\n",
            "2020-06-05 20:00:55,545 [INFO] bit_common: [step 6]: loss=2.29000 (lr=6.0e-06)\n",
            "2020-06-05 20:00:56,279 [INFO] bit_common: [step 7]: loss=2.29011 (lr=7.0e-06)\n",
            "2020-06-05 20:00:57,013 [INFO] bit_common: [step 8]: loss=2.27704 (lr=8.0e-06)\n",
            "2020-06-05 20:00:57,748 [INFO] bit_common: [step 9]: loss=2.26643 (lr=9.0e-06)\n",
            "2020-06-05 20:00:57,912 [INFO] bit_common: Running validation...\n",
            "2020-06-05 20:01:32,785 [INFO] bit_common: Validation@10 loss 2.25560, top1 39.21%, top5 69.67%\n",
            "2020-06-05 20:01:42,810 [INFO] bit_common: [step 10]: loss=2.26015 (lr=1.0e-05)\n",
            "2020-06-05 20:01:43,545 [INFO] bit_common: [step 11]: loss=2.23983 (lr=1.1e-05)\n",
            "2020-06-05 20:01:44,280 [INFO] bit_common: [step 12]: loss=2.24541 (lr=1.2e-05)\n",
            "2020-06-05 20:01:45,014 [INFO] bit_common: [step 13]: loss=2.20388 (lr=1.3e-05)\n",
            "2020-06-05 20:01:45,749 [INFO] bit_common: [step 14]: loss=2.19878 (lr=1.4e-05)\n",
            "2020-06-05 20:01:46,485 [INFO] bit_common: [step 15]: loss=2.20410 (lr=1.5e-05)\n",
            "2020-06-05 20:01:47,219 [INFO] bit_common: [step 16]: loss=2.22741 (lr=1.6e-05)\n",
            "2020-06-05 20:01:47,955 [INFO] bit_common: [step 17]: loss=2.22693 (lr=1.7e-05)\n",
            "2020-06-05 20:01:48,690 [INFO] bit_common: [step 18]: loss=2.09412 (lr=1.8e-05)\n",
            "2020-06-05 20:01:49,426 [INFO] bit_common: [step 19]: loss=2.09203 (lr=1.9e-05)\n",
            "2020-06-05 20:01:49,590 [INFO] bit_common: Running validation...\n",
            "2020-06-05 20:02:24,071 [INFO] bit_common: Validation@20 loss 2.01803, top1 84.50%, top5 99.24%\n",
            "2020-06-05 20:02:35,158 [INFO] bit_common: [step 20]: loss=2.05144 (lr=2.0e-05)\n",
            "2020-06-05 20:02:35,894 [INFO] bit_common: [step 21]: loss=2.02781 (lr=2.1e-05)\n",
            "2020-06-05 20:02:36,631 [INFO] bit_common: [step 22]: loss=1.96888 (lr=2.2e-05)\n",
            "2020-06-05 20:02:37,365 [INFO] bit_common: [step 23]: loss=2.07703 (lr=2.3e-05)\n",
            "2020-06-05 20:02:38,101 [INFO] bit_common: [step 24]: loss=2.15374 (lr=2.4e-05)\n",
            "2020-06-05 20:02:38,836 [INFO] bit_common: [step 25]: loss=1.87602 (lr=2.5e-05)\n",
            "2020-06-05 20:02:39,571 [INFO] bit_common: [step 26]: loss=1.82759 (lr=2.6e-05)\n",
            "2020-06-05 20:02:40,306 [INFO] bit_common: [step 27]: loss=1.88840 (lr=2.7e-05)\n",
            "2020-06-05 20:02:41,041 [INFO] bit_common: [step 28]: loss=1.85509 (lr=2.8e-05)\n",
            "2020-06-05 20:02:41,776 [INFO] bit_common: [step 29]: loss=1.65364 (lr=2.9e-05)\n",
            "2020-06-05 20:02:41,940 [INFO] bit_common: Running validation...\n",
            "2020-06-05 20:03:16,464 [INFO] bit_common: Validation@30 loss 1.64132, top1 81.98%, top5 99.16%\n",
            "2020-06-05 20:03:26,613 [INFO] bit_common: [step 30]: loss=2.07287 (lr=3.0e-05)\n",
            "2020-06-05 20:03:27,349 [INFO] bit_common: [step 31]: loss=1.53872 (lr=3.1e-05)\n",
            "2020-06-05 20:03:28,084 [INFO] bit_common: [step 32]: loss=1.52704 (lr=3.2e-05)\n",
            "2020-06-05 20:03:28,820 [INFO] bit_common: [step 33]: loss=1.52235 (lr=3.3e-05)\n",
            "2020-06-05 20:03:29,559 [INFO] bit_common: [step 34]: loss=1.38125 (lr=3.4e-05)\n",
            "2020-06-05 20:03:30,297 [INFO] bit_common: [step 35]: loss=1.47844 (lr=3.5e-05)\n",
            "2020-06-05 20:03:31,032 [INFO] bit_common: [step 36]: loss=1.43225 (lr=3.6e-05)\n",
            "2020-06-05 20:03:31,768 [INFO] bit_common: [step 37]: loss=1.30836 (lr=3.7e-05)\n",
            "2020-06-05 20:03:32,502 [INFO] bit_common: [step 38]: loss=1.35160 (lr=3.8e-05)\n",
            "2020-06-05 20:03:33,238 [INFO] bit_common: [step 39]: loss=1.31621 (lr=3.9e-05)\n",
            "2020-06-05 20:03:33,402 [INFO] bit_common: Running validation...\n",
            "2020-06-05 20:04:07,949 [INFO] bit_common: Validation@40 loss 1.19027, top1 88.80%, top5 99.61%\n",
            "2020-06-05 20:04:18,583 [INFO] bit_common: [step 40]: loss=1.22962 (lr=4.0e-05)\n",
            "2020-06-05 20:04:19,317 [INFO] bit_common: [step 41]: loss=1.19441 (lr=4.1e-05)\n",
            "2020-06-05 20:04:20,051 [INFO] bit_common: [step 42]: loss=1.25683 (lr=4.2e-05)\n",
            "2020-06-05 20:04:20,789 [INFO] bit_common: [step 43]: loss=1.95938 (lr=4.3e-05)\n",
            "2020-06-05 20:04:21,526 [INFO] bit_common: [step 44]: loss=1.06157 (lr=4.4e-05)\n",
            "2020-06-05 20:04:22,260 [INFO] bit_common: [step 45]: loss=0.93489 (lr=4.5e-05)\n",
            "2020-06-05 20:04:22,997 [INFO] bit_common: [step 46]: loss=0.94791 (lr=4.6e-05)\n",
            "2020-06-05 20:04:23,731 [INFO] bit_common: [step 47]: loss=0.94752 (lr=4.7e-05)\n",
            "2020-06-05 20:04:24,468 [INFO] bit_common: [step 48]: loss=0.89885 (lr=4.8e-05)\n",
            "2020-06-05 20:04:25,205 [INFO] bit_common: [step 49]: loss=0.80789 (lr=4.9e-05)\n",
            "2020-06-05 20:04:25,369 [INFO] bit_common: Running validation...\n",
            "2020-06-05 20:04:59,892 [INFO] bit_common: Validation@50 loss 0.79518, top1 91.99%, top5 99.78%\n",
            "2020-06-05 20:05:09,907 [INFO] bit_common: [step 50]: loss=0.75518 (lr=5.0e-05)\n",
            "2020-06-05 20:05:11,008 [INFO] bit_common: [step 51]: loss=0.92413 (lr=5.1e-05)\n",
            "2020-06-05 20:05:11,743 [INFO] bit_common: [step 52]: loss=0.75912 (lr=5.2e-05)\n",
            "2020-06-05 20:05:12,481 [INFO] bit_common: [step 53]: loss=0.87044 (lr=5.3e-05)\n",
            "2020-06-05 20:05:13,218 [INFO] bit_common: [step 54]: loss=0.70415 (lr=5.4e-05)\n",
            "2020-06-05 20:05:13,953 [INFO] bit_common: [step 55]: loss=1.28674 (lr=5.5e-05)\n",
            "2020-06-05 20:05:14,688 [INFO] bit_common: [step 56]: loss=0.68810 (lr=5.6e-05)\n",
            "2020-06-05 20:05:15,424 [INFO] bit_common: [step 57]: loss=0.68778 (lr=5.7e-05)\n",
            "2020-06-05 20:05:16,159 [INFO] bit_common: [step 58]: loss=0.78324 (lr=5.8e-05)\n",
            "2020-06-05 20:05:16,893 [INFO] bit_common: [step 59]: loss=0.75612 (lr=5.9e-05)\n",
            "2020-06-05 20:05:17,057 [INFO] bit_common: Running validation...\n",
            "2020-06-05 20:05:51,755 [INFO] bit_common: Validation@60 loss 0.52552, top1 93.39%, top5 99.86%\n",
            "2020-06-05 20:06:02,980 [INFO] bit_common: [step 60]: loss=1.03443 (lr=6.0e-05)\n",
            "2020-06-05 20:06:03,715 [INFO] bit_common: [step 61]: loss=1.46942 (lr=6.1e-05)\n",
            "2020-06-05 20:06:04,450 [INFO] bit_common: [step 62]: loss=0.53003 (lr=6.2e-05)\n",
            "2020-06-05 20:06:05,186 [INFO] bit_common: [step 63]: loss=0.51386 (lr=6.3e-05)\n",
            "2020-06-05 20:06:05,926 [INFO] bit_common: [step 64]: loss=1.00636 (lr=6.4e-05)\n",
            "2020-06-05 20:06:06,663 [INFO] bit_common: [step 65]: loss=0.50242 (lr=6.5e-05)\n",
            "2020-06-05 20:06:07,401 [INFO] bit_common: [step 66]: loss=0.45559 (lr=6.6e-05)\n",
            "2020-06-05 20:06:08,136 [INFO] bit_common: [step 67]: loss=1.03430 (lr=6.7e-05)\n",
            "2020-06-05 20:06:08,871 [INFO] bit_common: [step 68]: loss=0.79251 (lr=6.8e-05)\n",
            "2020-06-05 20:06:09,604 [INFO] bit_common: [step 69]: loss=0.42984 (lr=6.9e-05)\n",
            "2020-06-05 20:06:09,768 [INFO] bit_common: Running validation...\n",
            "2020-06-05 20:06:44,197 [INFO] bit_common: Validation@70 loss 0.37741, top1 94.12%, top5 99.89%\n",
            "2020-06-05 20:06:54,626 [INFO] bit_common: [step 70]: loss=0.55378 (lr=7.0e-05)\n",
            "2020-06-05 20:06:55,361 [INFO] bit_common: [step 71]: loss=0.38788 (lr=7.1e-05)\n",
            "2020-06-05 20:06:56,097 [INFO] bit_common: [step 72]: loss=0.55043 (lr=7.2e-05)\n",
            "2020-06-05 20:06:56,837 [INFO] bit_common: [step 73]: loss=0.44998 (lr=7.3e-05)\n",
            "2020-06-05 20:06:57,574 [INFO] bit_common: [step 74]: loss=0.31218 (lr=7.4e-05)\n",
            "2020-06-05 20:06:58,311 [INFO] bit_common: [step 75]: loss=1.78937 (lr=7.5e-05)\n",
            "2020-06-05 20:06:59,046 [INFO] bit_common: [step 76]: loss=0.32002 (lr=7.6e-05)\n",
            "2020-06-05 20:06:59,781 [INFO] bit_common: [step 77]: loss=0.42024 (lr=7.7e-05)\n",
            "2020-06-05 20:07:00,520 [INFO] bit_common: [step 78]: loss=0.75641 (lr=7.8e-05)\n",
            "2020-06-05 20:07:01,258 [INFO] bit_common: [step 79]: loss=0.30151 (lr=7.9e-05)\n",
            "2020-06-05 20:07:01,423 [INFO] bit_common: Running validation...\n",
            "2020-06-05 20:07:35,848 [INFO] bit_common: Validation@80 loss 0.29090, top1 94.77%, top5 99.92%\n",
            "2020-06-05 20:07:46,825 [INFO] bit_common: [step 80]: loss=1.92174 (lr=8.0e-05)\n",
            "2020-06-05 20:07:51,485 [INFO] bit_common: [step 81]: loss=1.90833 (lr=8.1e-05)\n",
            "2020-06-05 20:07:52,220 [INFO] bit_common: [step 82]: loss=0.36018 (lr=8.2e-05)\n",
            "2020-06-05 20:07:52,957 [INFO] bit_common: [step 83]: loss=0.32131 (lr=8.3e-05)\n",
            "2020-06-05 20:07:53,695 [INFO] bit_common: [step 84]: loss=0.25505 (lr=8.4e-05)\n",
            "2020-06-05 20:07:54,430 [INFO] bit_common: [step 85]: loss=0.30821 (lr=8.5e-05)\n",
            "2020-06-05 20:07:55,165 [INFO] bit_common: [step 86]: loss=0.29025 (lr=8.6e-05)\n",
            "2020-06-05 20:07:55,901 [INFO] bit_common: [step 87]: loss=1.19985 (lr=8.7e-05)\n",
            "2020-06-05 20:07:56,638 [INFO] bit_common: [step 88]: loss=0.29927 (lr=8.8e-05)\n",
            "2020-06-05 20:07:57,377 [INFO] bit_common: [step 89]: loss=0.21392 (lr=8.9e-05)\n",
            "2020-06-05 20:07:57,541 [INFO] bit_common: Running validation...\n",
            "2020-06-05 20:08:32,182 [INFO] bit_common: Validation@90 loss 0.25883, top1 94.76%, top5 99.95%\n",
            "2020-06-05 20:08:43,401 [INFO] bit_common: [step 90]: loss=0.31166 (lr=9.0e-05)\n",
            "2020-06-05 20:08:48,019 [INFO] bit_common: [step 91]: loss=0.25004 (lr=9.1e-05)\n",
            "2020-06-05 20:08:48,755 [INFO] bit_common: [step 92]: loss=0.68369 (lr=9.2e-05)\n",
            "2020-06-05 20:08:49,491 [INFO] bit_common: [step 93]: loss=0.55738 (lr=9.3e-05)\n",
            "2020-06-05 20:08:50,226 [INFO] bit_common: [step 94]: loss=0.28821 (lr=9.4e-05)\n",
            "2020-06-05 20:08:50,962 [INFO] bit_common: [step 95]: loss=0.39101 (lr=9.5e-05)\n",
            "2020-06-05 20:08:51,698 [INFO] bit_common: [step 96]: loss=0.21747 (lr=9.6e-05)\n",
            "2020-06-05 20:08:52,436 [INFO] bit_common: [step 97]: loss=0.66266 (lr=9.7e-05)\n",
            "2020-06-05 20:08:53,174 [INFO] bit_common: [step 98]: loss=0.22277 (lr=9.8e-05)\n",
            "2020-06-05 20:08:53,911 [INFO] bit_common: [step 99]: loss=0.12399 (lr=9.9e-05)\n",
            "2020-06-05 20:08:54,075 [INFO] bit_common: Running validation...\n",
            "2020-06-05 20:09:28,799 [INFO] bit_common: Validation@100 loss 0.23147, top1 94.56%, top5 99.95%\n",
            "2020-06-05 20:09:40,247 [INFO] bit_common: [step 100]: loss=0.44277 (lr=1.0e-04)\n",
            "2020-06-05 20:09:44,528 [INFO] bit_common: [step 101]: loss=0.22602 (lr=1.0e-04)\n",
            "2020-06-05 20:09:45,262 [INFO] bit_common: [step 102]: loss=0.30790 (lr=1.0e-04)\n",
            "2020-06-05 20:09:45,996 [INFO] bit_common: [step 103]: loss=0.27361 (lr=1.0e-04)\n",
            "2020-06-05 20:09:46,731 [INFO] bit_common: [step 104]: loss=0.19265 (lr=1.0e-04)\n",
            "2020-06-05 20:09:47,466 [INFO] bit_common: [step 105]: loss=0.21686 (lr=1.0e-04)\n",
            "2020-06-05 20:09:48,200 [INFO] bit_common: [step 106]: loss=1.90246 (lr=1.1e-04)\n",
            "2020-06-05 20:09:48,936 [INFO] bit_common: [step 107]: loss=0.37234 (lr=1.1e-04)\n",
            "2020-06-05 20:09:49,671 [INFO] bit_common: [step 108]: loss=1.60122 (lr=1.1e-04)\n",
            "2020-06-05 20:09:50,406 [INFO] bit_common: [step 109]: loss=0.29311 (lr=1.1e-04)\n",
            "2020-06-05 20:09:50,569 [INFO] bit_common: Running validation...\n",
            "2020-06-05 20:10:25,114 [INFO] bit_common: Validation@110 loss 0.18674, top1 95.82%, top5 99.97%\n",
            "2020-06-05 20:10:38,961 [INFO] bit_common: [step 110]: loss=2.09188 (lr=1.1e-04)\n",
            "2020-06-05 20:10:39,695 [INFO] bit_common: [step 111]: loss=0.20695 (lr=1.1e-04)\n",
            "2020-06-05 20:10:40,429 [INFO] bit_common: [step 112]: loss=0.28120 (lr=1.1e-04)\n",
            "2020-06-05 20:10:41,165 [INFO] bit_common: [step 113]: loss=0.17700 (lr=1.1e-04)\n",
            "2020-06-05 20:10:41,900 [INFO] bit_common: [step 114]: loss=0.53538 (lr=1.1e-04)\n",
            "2020-06-05 20:10:42,226 [INFO] bit_common: Running validation...\n",
            "2020-06-05 20:11:16,749 [INFO] bit_common: Validation@end loss 0.19533, top1 95.61%, top5 99.93%\n",
            "2020-06-05 20:11:16,756 [INFO] bit_common: Timings:\n",
            "grads     : 0.24687s\n",
            "fprop     : 0.22563s\n",
            "eval fprop: 0.21431s\n",
            "update    : 0.15500s\n",
            "load      : 0.00759s\n",
            "eval load : 0.00478s\n"
          ],
          "name": "stdout"
        }
      ]
    },
    {
      "cell_type": "markdown",
      "metadata": {
        "id": "UUH16BxZBkm-",
        "colab_type": "text"
      },
      "source": [
        "## Check output files"
      ]
    },
    {
      "cell_type": "code",
      "metadata": {
        "id": "_7odLaHe7Nxf",
        "colab_type": "code",
        "colab": {
          "base_uri": "https://localhost:8080/",
          "height": 51
        },
        "outputId": "39ecbde0-a9cf-48af-ae8e-942f802720c5"
      },
      "source": [
        "%cd ./bit_logs/cifar10_2020-06-05_200022/\n",
        "!ls"
      ],
      "execution_count": 6,
      "outputs": [
        {
          "output_type": "stream",
          "text": [
            "/content/big_transfer/bit_logs/cifar10_2020-06-05_200022\n",
            "bit.pth.tar  train.log\n"
          ],
          "name": "stdout"
        }
      ]
    },
    {
      "cell_type": "code",
      "metadata": {
        "id": "AH7W7SBtBPNe",
        "colab_type": "code",
        "colab": {}
      },
      "source": [
        ""
      ],
      "execution_count": 0,
      "outputs": []
    }
  ]
}